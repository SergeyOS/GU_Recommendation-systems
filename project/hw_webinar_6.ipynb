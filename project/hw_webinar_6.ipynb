{
 "cells": [
  {
   "cell_type": "markdown",
   "metadata": {},
   "source": [
    "# Вебинар 6. Двухуровневые модели рекомендаций\n"
   ]
  },
  {
   "cell_type": "markdown",
   "metadata": {},
   "source": [
    "Код для src, utils, metrics вы можете скачать из [этого](https://github.com/geangohn/recsys-tutorial) github репозитория"
   ]
  },
  {
   "cell_type": "code",
   "execution_count": 1,
   "metadata": {},
   "outputs": [],
   "source": [
    "import pandas as pd\n",
    "import numpy as np\n",
    "import matplotlib.pyplot as plt\n",
    "%matplotlib inline\n",
    "\n",
    "# Для работы с матрицами\n",
    "from scipy.sparse import csr_matrix\n",
    "\n",
    "# Матричная факторизация\n",
    "from implicit import als\n",
    "\n",
    "# Модель второго уровня\n",
    "from lightgbm import LGBMClassifier\n",
    "\n",
    "import os, sys\n",
    "module_path = os.path.abspath(os.path.join(os.pardir))\n",
    "if module_path not in sys.path:\n",
    "    sys.path.append(module_path)\n",
    "\n",
    "# Написанные нами функции\n",
    "from src.metrics import precision_at_k, recall_at_k\n",
    "from src.utils import prefilter_items\n",
    "from src.recommenders import MainRecommender"
   ]
  },
  {
   "cell_type": "code",
   "execution_count": 2,
   "metadata": {},
   "outputs": [
    {
     "data": {
      "text/html": [
       "<div>\n",
       "<style scoped>\n",
       "    .dataframe tbody tr th:only-of-type {\n",
       "        vertical-align: middle;\n",
       "    }\n",
       "\n",
       "    .dataframe tbody tr th {\n",
       "        vertical-align: top;\n",
       "    }\n",
       "\n",
       "    .dataframe thead th {\n",
       "        text-align: right;\n",
       "    }\n",
       "</style>\n",
       "<table border=\"1\" class=\"dataframe\">\n",
       "  <thead>\n",
       "    <tr style=\"text-align: right;\">\n",
       "      <th></th>\n",
       "      <th>user_id</th>\n",
       "      <th>basket_id</th>\n",
       "      <th>day</th>\n",
       "      <th>item_id</th>\n",
       "      <th>quantity</th>\n",
       "      <th>sales_value</th>\n",
       "      <th>store_id</th>\n",
       "      <th>retail_disc</th>\n",
       "      <th>trans_time</th>\n",
       "      <th>week_no</th>\n",
       "      <th>coupon_disc</th>\n",
       "      <th>coupon_match_disc</th>\n",
       "    </tr>\n",
       "  </thead>\n",
       "  <tbody>\n",
       "    <tr>\n",
       "      <th>0</th>\n",
       "      <td>2375</td>\n",
       "      <td>26984851472</td>\n",
       "      <td>1</td>\n",
       "      <td>1004906</td>\n",
       "      <td>1</td>\n",
       "      <td>1.39</td>\n",
       "      <td>364</td>\n",
       "      <td>-0.6</td>\n",
       "      <td>1631</td>\n",
       "      <td>1</td>\n",
       "      <td>0.0</td>\n",
       "      <td>0.0</td>\n",
       "    </tr>\n",
       "    <tr>\n",
       "      <th>1</th>\n",
       "      <td>2375</td>\n",
       "      <td>26984851472</td>\n",
       "      <td>1</td>\n",
       "      <td>1033142</td>\n",
       "      <td>1</td>\n",
       "      <td>0.82</td>\n",
       "      <td>364</td>\n",
       "      <td>0.0</td>\n",
       "      <td>1631</td>\n",
       "      <td>1</td>\n",
       "      <td>0.0</td>\n",
       "      <td>0.0</td>\n",
       "    </tr>\n",
       "  </tbody>\n",
       "</table>\n",
       "</div>"
      ],
      "text/plain": [
       "   user_id    basket_id  day  item_id  quantity  sales_value  store_id  \\\n",
       "0     2375  26984851472    1  1004906         1         1.39       364   \n",
       "1     2375  26984851472    1  1033142         1         0.82       364   \n",
       "\n",
       "   retail_disc  trans_time  week_no  coupon_disc  coupon_match_disc  \n",
       "0         -0.6        1631        1          0.0                0.0  \n",
       "1          0.0        1631        1          0.0                0.0  "
      ]
     },
     "execution_count": 2,
     "metadata": {},
     "output_type": "execute_result"
    }
   ],
   "source": [
    "data = pd.read_csv('../raw_data/retail_train.csv')\n",
    "item_features = pd.read_csv('../raw_data/product.csv')\n",
    "user_features = pd.read_csv('../raw_data/hh_demographic.csv')\n",
    "\n",
    "# column processing\n",
    "item_features.columns = [col.lower() for col in item_features.columns]\n",
    "user_features.columns = [col.lower() for col in user_features.columns]\n",
    "\n",
    "item_features.rename(columns={'product_id': 'item_id'}, inplace=True)\n",
    "user_features.rename(columns={'household_key': 'user_id'}, inplace=True)\n",
    "\n",
    "\n",
    "# Важна схема обучения и валидации!\n",
    "# -- давние покупки -- | -- 6 недель -- | -- 3 недель -- \n",
    "# подобрать размер 2-ого датасета (6 недель) --> learning curve (зависимость метрики recall@k от размера датасета)\n",
    "val_lvl_1_size_weeks = 6\n",
    "val_lvl_2_size_weeks = 3\n",
    "\n",
    "data_train_lvl_1 = data[data['week_no'] < data['week_no'].max() - (val_lvl_1_size_weeks + val_lvl_2_size_weeks)]\n",
    "data_val_lvl_1 = data[(data['week_no'] >= data['week_no'].max() - (val_lvl_1_size_weeks + val_lvl_2_size_weeks)) &\n",
    "                      (data['week_no'] < data['week_no'].max() - (val_lvl_2_size_weeks))]\n",
    "\n",
    "data_train_lvl_2 = data_val_lvl_1.copy()  # Для наглядности. Далее мы добавим изменения, и они будут отличаться\n",
    "data_val_lvl_2 = data[data['week_no'] >= data['week_no'].max() - val_lvl_2_size_weeks]\n",
    "\n",
    "data_train_lvl_1.head(2)"
   ]
  },
  {
   "cell_type": "code",
   "execution_count": 3,
   "metadata": {},
   "outputs": [
    {
     "name": "stdout",
     "output_type": "stream",
     "text": [
      "Decreased # items from 83685 to 5001\n"
     ]
    }
   ],
   "source": [
    "n_items_before = data_train_lvl_1['item_id'].nunique()\n",
    "\n",
    "data_train_lvl_1 = prefilter_items(data_train_lvl_1, item_features=item_features, take_n_popular=5000)\n",
    "\n",
    "n_items_after = data_train_lvl_1['item_id'].nunique()\n",
    "print('Decreased # items from {} to {}'.format(n_items_before, n_items_after))"
   ]
  },
  {
   "cell_type": "code",
   "execution_count": 4,
   "metadata": {},
   "outputs": [
    {
     "name": "stderr",
     "output_type": "stream",
     "text": [
      "WARNING:root:Intel MKL BLAS detected. Its highly recommend to set the environment variable 'export MKL_NUM_THREADS=1' to disable its internal multithreading\n"
     ]
    },
    {
     "data": {
      "application/vnd.jupyter.widget-view+json": {
       "model_id": "926e7339fbaa47498cad9d4d89a07701",
       "version_major": 2,
       "version_minor": 0
      },
      "text/plain": [
       "HBox(children=(FloatProgress(value=0.0, max=15.0), HTML(value='')))"
      ]
     },
     "metadata": {},
     "output_type": "display_data"
    },
    {
     "name": "stdout",
     "output_type": "stream",
     "text": [
      "\n"
     ]
    },
    {
     "data": {
      "application/vnd.jupyter.widget-view+json": {
       "model_id": "6baff98db4a941f8bb08ead5f6888d98",
       "version_major": 2,
       "version_minor": 0
      },
      "text/plain": [
       "HBox(children=(FloatProgress(value=0.0, max=5001.0), HTML(value='')))"
      ]
     },
     "metadata": {},
     "output_type": "display_data"
    },
    {
     "name": "stdout",
     "output_type": "stream",
     "text": [
      "\n"
     ]
    }
   ],
   "source": [
    "recommender = MainRecommender(data_train_lvl_1)"
   ]
  },
  {
   "cell_type": "code",
   "execution_count": 5,
   "metadata": {},
   "outputs": [],
   "source": [
    "#recommender.get_als_recommendations(2375, N=200)"
   ]
  },
  {
   "cell_type": "code",
   "execution_count": 6,
   "metadata": {},
   "outputs": [],
   "source": [
    "#recommender.get_own_recommendations(2375, N=200)"
   ]
  },
  {
   "cell_type": "code",
   "execution_count": 7,
   "metadata": {},
   "outputs": [],
   "source": [
    "#recommender.get_similar_items_recommendation(2375, N=200)"
   ]
  },
  {
   "cell_type": "code",
   "execution_count": 8,
   "metadata": {},
   "outputs": [],
   "source": [
    "#recommender.get_similar_users_recommendation(2375, N=200)"
   ]
  },
  {
   "cell_type": "markdown",
   "metadata": {},
   "source": [
    "### Задание 1\n",
    "\n",
    "A) Попробуйте различные варианты генерации кандидатов. Какие из них дают наибольший recall@k ?\n",
    "- Пока пробуем отобрать 200 кандидатов (k=200)\n",
    "- Качество измеряем на data_val_lvl_1: следующие 6 недель после трейна\n",
    "\n",
    "Дают ли own recommendtions + top-popular лучший recall?  \n",
    "\n",
    "B)* Как зависит recall@k от k? Постройте для одной схемы генерации кандидатов эту зависимость для k = {20, 50, 100, 200, 500}  \n",
    "C)* Исходя из прошлого вопроса, как вы думаете, какое значение k является наиболее разумным?\n"
   ]
  },
  {
   "cell_type": "markdown",
   "metadata": {},
   "source": [
    "Пользователи, которых не было в тренировочном датасете"
   ]
  },
  {
   "cell_type": "code",
   "execution_count": 9,
   "metadata": {},
   "outputs": [
    {
     "name": "stdout",
     "output_type": "stream",
     "text": [
      "Список новых пользователей {296, 1813, 1984}\n"
     ]
    }
   ],
   "source": [
    "user_id_val_lvl_1 = data_val_lvl_1['user_id'].unique()\n",
    "user_id_train_lvl_1 = data_train_lvl_1['user_id'].unique()\n",
    "diff = set(user_id_val_lvl_1) - set(user_id_train_lvl_1)\n",
    "print(f'Список новых пользователей {diff}')\n",
    "#data_val_lvl_1 = data_val_lvl_1[~data_val_lvl_1['user_id'].isin(diff)]"
   ]
  },
  {
   "cell_type": "code",
   "execution_count": 10,
   "metadata": {},
   "outputs": [
    {
     "data": {
      "text/html": [
       "<div>\n",
       "<style scoped>\n",
       "    .dataframe tbody tr th:only-of-type {\n",
       "        vertical-align: middle;\n",
       "    }\n",
       "\n",
       "    .dataframe tbody tr th {\n",
       "        vertical-align: top;\n",
       "    }\n",
       "\n",
       "    .dataframe thead th {\n",
       "        text-align: right;\n",
       "    }\n",
       "</style>\n",
       "<table border=\"1\" class=\"dataframe\">\n",
       "  <thead>\n",
       "    <tr style=\"text-align: right;\">\n",
       "      <th></th>\n",
       "      <th>user_id</th>\n",
       "      <th>actual</th>\n",
       "    </tr>\n",
       "  </thead>\n",
       "  <tbody>\n",
       "    <tr>\n",
       "      <th>0</th>\n",
       "      <td>1</td>\n",
       "      <td>[853529, 865456, 867607, 872137, 874905, 87524...</td>\n",
       "    </tr>\n",
       "    <tr>\n",
       "      <th>1</th>\n",
       "      <td>2</td>\n",
       "      <td>[15830248, 838136, 839656, 861272, 866211, 870...</td>\n",
       "    </tr>\n",
       "  </tbody>\n",
       "</table>\n",
       "</div>"
      ],
      "text/plain": [
       "   user_id                                             actual\n",
       "0        1  [853529, 865456, 867607, 872137, 874905, 87524...\n",
       "1        2  [15830248, 838136, 839656, 861272, 866211, 870..."
      ]
     },
     "execution_count": 10,
     "metadata": {},
     "output_type": "execute_result"
    }
   ],
   "source": [
    "result_lvl_1 = data_val_lvl_1.groupby('user_id')['item_id'].unique().reset_index()\n",
    "result_lvl_1.columns=['user_id', 'actual']\n",
    "result_lvl_1.head(2)"
   ]
  },
  {
   "cell_type": "code",
   "execution_count": 11,
   "metadata": {},
   "outputs": [],
   "source": [
    "result_lvl_1['get_als_recommendations'] = result_lvl_1.apply(lambda row: recommender.get_als_recommendations(row['user_id'], N=200), axis=1)\n",
    "result_lvl_1['get_own_recommendations'] = result_lvl_1.apply(lambda row: recommender.get_own_recommendations(row['user_id'], N=200), axis=1)\n",
    "result_lvl_1['get_similar_items_recommendation'] = result_lvl_1.apply(lambda row: recommender.get_similar_items_recommendation(row['user_id'], N=200), axis=1)\n",
    "#result_lvl_1['get_similar_users_recommendation'] = result_lvl_1.apply(lambda row: recommender.get_similar_users_recommendation(row['user_id'], N=200), axis=1)\n",
    "result_lvl_1['get_top200'] = result_lvl_1.apply(lambda row: recommender._extend_with_top_popular([], N=200), axis=1)"
   ]
  },
  {
   "cell_type": "code",
   "execution_count": 12,
   "metadata": {},
   "outputs": [
    {
     "name": "stdout",
     "output_type": "stream",
     "text": [
      "get_als_recommendations recall=0.0979014374297892\n",
      "get_own_recommendations recall=0.1352815146098268\n",
      "get_similar_items_recommendation recall=0.08492360963715664\n",
      "get_top200 recall=0.08940276042445733\n"
     ]
    }
   ],
   "source": [
    "columns = ['get_als_recommendations', 'get_own_recommendations', #'get_similar_users_recommendation',\n",
    "           'get_similar_items_recommendation', 'get_top200']\n",
    "for column in columns:\n",
    "    recall_at_value = result_lvl_1.apply(lambda row: recall_at_k(row[column], row['actual'], 200), axis=1).mean()\n",
    "    print(f'{column} recall={recall_at_value}')"
   ]
  },
  {
   "cell_type": "code",
   "execution_count": 13,
   "metadata": {},
   "outputs": [
    {
     "name": "stdout",
     "output_type": "stream",
     "text": [
      "N_20 recall=0.031014234324158504\n",
      "N_50 recall=0.04893839301023467\n",
      "N_100 recall=0.06946451591431317\n",
      "N_150 recall=0.08551511185381631\n",
      "N_200 recall=0.0979014374297892\n",
      "N_500 recall=0.14781752137213783\n",
      "N_1000 recall=0.1939263835548486\n"
     ]
    }
   ],
   "source": [
    "for n_candidates in [20, 50, 100, 150, 200, 500, 1000]:\n",
    "    column = f'N_{n_candidates}'\n",
    "    result_lvl_1[column] = result_lvl_1.apply(lambda row: recommender.get_als_recommendations(row['user_id'], N=n_candidates), axis=1)\n",
    "    recall_at_value = result_lvl_1.apply(lambda row: recall_at_k(row[column], row['actual'], n_candidates), axis=1).mean()\n",
    "    print(f'N_{n_candidates} recall={recall_at_value}')"
   ]
  },
  {
   "cell_type": "markdown",
   "metadata": {},
   "source": [
    "Чем больше список кандидатов, тем выше шанс предсказания и выше recall.\n",
    "Количество кандидатов надо выбирать исходя из технических возможностей (скорость предсказания и других ограничений) и точности предсказания двухуровневой модели."
   ]
  },
  {
   "cell_type": "markdown",
   "metadata": {},
   "source": [
    "### Задание 2.\n",
    "\n",
    "Обучите модель 2-ого уровня, при этом:\n",
    "    - Добавьте минимум по 2 фичи для юзера, товара и пары юзер-товар\n",
    "    - Измерьте отдельно precision@5 модели 1-ого уровня и двухуровневой модели на data_val_lvl_2\n",
    "    - Вырос ли precision@5 при использовании двухуровневой модели?"
   ]
  },
  {
   "cell_type": "code",
   "execution_count": 14,
   "metadata": {},
   "outputs": [],
   "source": [
    "def get_data(data_train_lvl_2):\n",
    "    users_lvl_2 = pd.DataFrame(data_train_lvl_2['user_id'].unique())\n",
    "    users_lvl_2.columns = ['user_id']\n",
    "    users_lvl_2['candidates'] = users_lvl_2['user_id'].apply(lambda x: recommender.get_als_recommendations(x, N=200))\n",
    "\n",
    "    s = users_lvl_2.apply(lambda x: pd.Series(x['candidates']), axis=1).stack().reset_index(level=1, drop=True)\n",
    "    s.name = 'item_id'\n",
    "\n",
    "    users_lvl_2 = users_lvl_2.drop('candidates', axis=1).join(s)\n",
    "    users_lvl_2['drop'] = 1  # фиктивная пересенная\n",
    "\n",
    "    targets_lvl_2 = data_train_lvl_2[['user_id', 'item_id']].copy()\n",
    "    targets_lvl_2['target'] = 1  # тут только покупки \n",
    "\n",
    "    targets_lvl_2 = users_lvl_2.merge(targets_lvl_2, on=['user_id', 'item_id'], how='left')\n",
    "\n",
    "    targets_lvl_2['target'].fillna(0, inplace= True)\n",
    "    targets_lvl_2.drop('drop', axis=1, inplace=True)\n",
    "    return targets_lvl_2"
   ]
  },
  {
   "cell_type": "code",
   "execution_count": 15,
   "metadata": {},
   "outputs": [
    {
     "data": {
      "text/html": [
       "<div>\n",
       "<style scoped>\n",
       "    .dataframe tbody tr th:only-of-type {\n",
       "        vertical-align: middle;\n",
       "    }\n",
       "\n",
       "    .dataframe tbody tr th {\n",
       "        vertical-align: top;\n",
       "    }\n",
       "\n",
       "    .dataframe thead th {\n",
       "        text-align: right;\n",
       "    }\n",
       "</style>\n",
       "<table border=\"1\" class=\"dataframe\">\n",
       "  <thead>\n",
       "    <tr style=\"text-align: right;\">\n",
       "      <th></th>\n",
       "      <th>user_id</th>\n",
       "      <th>item_id</th>\n",
       "      <th>target</th>\n",
       "    </tr>\n",
       "  </thead>\n",
       "  <tbody>\n",
       "    <tr>\n",
       "      <th>0</th>\n",
       "      <td>2070</td>\n",
       "      <td>899624</td>\n",
       "      <td>1.0</td>\n",
       "    </tr>\n",
       "    <tr>\n",
       "      <th>1</th>\n",
       "      <td>2070</td>\n",
       "      <td>1029743</td>\n",
       "      <td>0.0</td>\n",
       "    </tr>\n",
       "    <tr>\n",
       "      <th>2</th>\n",
       "      <td>2070</td>\n",
       "      <td>5569471</td>\n",
       "      <td>0.0</td>\n",
       "    </tr>\n",
       "    <tr>\n",
       "      <th>3</th>\n",
       "      <td>2070</td>\n",
       "      <td>917033</td>\n",
       "      <td>0.0</td>\n",
       "    </tr>\n",
       "    <tr>\n",
       "      <th>4</th>\n",
       "      <td>2070</td>\n",
       "      <td>896085</td>\n",
       "      <td>0.0</td>\n",
       "    </tr>\n",
       "  </tbody>\n",
       "</table>\n",
       "</div>"
      ],
      "text/plain": [
       "   user_id  item_id  target\n",
       "0     2070   899624     1.0\n",
       "1     2070  1029743     0.0\n",
       "2     2070  5569471     0.0\n",
       "3     2070   917033     0.0\n",
       "4     2070   896085     0.0"
      ]
     },
     "execution_count": 15,
     "metadata": {},
     "output_type": "execute_result"
    }
   ],
   "source": [
    "targets_lvl_2 = get_data(data_train_lvl_2)\n",
    "targets_lvl_2.head()"
   ]
  },
  {
   "cell_type": "code",
   "execution_count": 16,
   "metadata": {},
   "outputs": [],
   "source": [
    "#Средний чек\n",
    "def average_bill(data_train):    \n",
    "    sum_baskets = data_train.groupby(['user_id', 'basket_id'], as_index=False)['total_sales'].sum()   \n",
    "    sum_baskets = sum_baskets.drop('basket_id', axis=1)\n",
    "    return  sum_baskets.groupby('user_id').mean().rename(columns={'total_sales':'average_bill'})\n",
    "\n",
    "#Кол-во покупок в каждой категории\n",
    "def quantity_by_department(data_train, item_features):  \n",
    "    df = data_train.merge(item_features, on=['item_id'], how='left')\n",
    "    return   df.groupby(['user_id', 'department'], as_index=False)['total_sales'].count().rename(columns={'total_sales':'quantity_by_department'})  "
   ]
  },
  {
   "cell_type": "code",
   "execution_count": 17,
   "metadata": {},
   "outputs": [],
   "source": [
    "#Кол-во покупок в неделю \n",
    "def quantity_item_by_week(data_train):    \n",
    "    quantity_week = data_train.groupby(['item_id', 'week_no'], as_index=False)['quantity'].sum()   \n",
    "    quantity_week = quantity_week.drop('week_no', axis=1)\n",
    "    return  quantity_week.groupby('item_id').mean().rename(columns={'quantity':'quantity_item_by_week'})\n",
    "\n",
    "#Средняя цена товара в категории\n",
    "def mean_price_in_department(data_train, item_features):  \n",
    "    df = data_train.merge(item_features, on=['item_id'], how='left')\n",
    "    df = df.groupby(['item_id', 'department'], as_index=False)['sales_value'].sum()\n",
    "    df = df.drop('item_id', axis=1)\n",
    "    return   df.groupby('department', as_index=False).mean().rename(columns={'sales_value':'mean_price_in_department'})"
   ]
  },
  {
   "cell_type": "code",
   "execution_count": 18,
   "metadata": {},
   "outputs": [],
   "source": [
    "#(Средняя сумма покупки 1 товара в каждой категории (берем категорию item_id)) - (Цена item_id)\n",
    "def mean_diff_prices(data_train, item_features):  \n",
    "    data_mean_price_in_department = mean_price_in_department(data_train, item_features)\n",
    "    df = data_train.merge(item_features, on=['item_id'], how='left')\n",
    "    df = df.merge(data_mean_price_in_department, on=['department'], how='left')\n",
    "    df['diff_prices'] = df['mean_price_in_department'] - df['sales_value']\n",
    "    return   df.groupby(['item_id', 'user_id'], as_index=False)['diff_prices'].mean().rename(columns={'diff_prices':'mean_diff_prices'})\n",
    "\n",
    "#(Кол-во покупок юзером конкретной категории в неделю) / (Среднее кол-во покупок всеми юзерами конкретной категории в неделю)\n",
    "def factor_quantity(data_train, item_features):  \n",
    "    df = data_train.merge(item_features, on=['item_id'], how='left')\n",
    "    \n",
    "    data_mean_quintity_dw = df.groupby(['department',  'week_no'], as_index=False)['quantity'].mean().rename(columns={'quantity':'mean_dw_quantity'})\n",
    "    data_mean_quintity_dwu = df.groupby(['department',  'week_no', 'user_id'], as_index=False)['quantity'].sum().rename(columns={'quantity':'dwu_quantity'})\n",
    "        \n",
    "    df = df.merge(data_mean_quintity_dw, on=['department',  'week_no'], how='left')\n",
    "    df = df.merge(data_mean_quintity_dwu, on=['department',  'week_no', 'user_id'], how='left')\n",
    "    df['factor_quantity'] = df['dwu_quantity'] / df['mean_dw_quantity']\n",
    "    return   df.groupby(['item_id', 'user_id'], as_index=False)['factor_quantity'].mean()"
   ]
  },
  {
   "cell_type": "code",
   "execution_count": 19,
   "metadata": {},
   "outputs": [],
   "source": [
    "data_train_lvl_2['total_sales'] = data_train_lvl_2['sales_value'] * data_train_lvl_2['quantity']\n",
    "data_average_bill = average_bill(data_train_lvl_2)\n",
    "data_quantity_by_department = quantity_by_department(data_train_lvl_2, item_features)\n",
    "data_quantity_item_by_week = quantity_item_by_week(data_train_lvl_2)\n",
    "data_mean_price_in_department = mean_price_in_department(data_train_lvl_2, item_features)\n",
    "data_mean_diff_prices = mean_diff_prices(data_train_lvl_2, item_features)\n",
    "data_factor_quantity = factor_quantity(data_train_lvl_2, item_features)"
   ]
  },
  {
   "cell_type": "code",
   "execution_count": 20,
   "metadata": {},
   "outputs": [],
   "source": [
    "def prepare(data, data_average_bill, item_features,\n",
    "           data_quantity_by_department, data_quantity_item_by_week,\n",
    "           data_mean_price_in_department, data_mean_diff_prices, data_factor_quantity):\n",
    "    data = data.merge(data_average_bill, on=['user_id'], how='left')\n",
    "    data = data.merge(item_features[['item_id', 'department']], on=['item_id'], how='left')\n",
    "    data = data.merge(data_quantity_by_department, on=['user_id', 'department'], how='left')\n",
    "    data = data.merge(data_quantity_item_by_week, on=['item_id'], how='left')\n",
    "    data = data.merge(data_mean_price_in_department, on=['department'], how='left')\n",
    "    data = data.merge(data_mean_diff_prices, on=['item_id', 'user_id'], how='left')\n",
    "    data = data.merge(data_factor_quantity , on=['item_id', 'user_id'], how='left')\n",
    "    data_mean_diff_prices_by_item = data_mean_diff_prices.groupby(['item_id'], as_index=False)['mean_diff_prices'].mean().rename(columns={'mean_diff_prices':'mm_diff_prices'})\n",
    "    data = data.merge(data_mean_diff_prices_by_item, on=['item_id'], how='left')\n",
    "    data.loc[data['mean_diff_prices'].isna(), 'mean_diff_prices'] = data.loc[data['mean_diff_prices'].isna(), 'mm_diff_prices']\n",
    "    data.drop('mm_diff_prices', axis=1, inplace=True)\n",
    "    data.fillna(0, inplace=True)\n",
    "    return data"
   ]
  },
  {
   "cell_type": "code",
   "execution_count": 21,
   "metadata": {},
   "outputs": [
    {
     "data": {
      "text/html": [
       "<div>\n",
       "<style scoped>\n",
       "    .dataframe tbody tr th:only-of-type {\n",
       "        vertical-align: middle;\n",
       "    }\n",
       "\n",
       "    .dataframe tbody tr th {\n",
       "        vertical-align: top;\n",
       "    }\n",
       "\n",
       "    .dataframe thead th {\n",
       "        text-align: right;\n",
       "    }\n",
       "</style>\n",
       "<table border=\"1\" class=\"dataframe\">\n",
       "  <thead>\n",
       "    <tr style=\"text-align: right;\">\n",
       "      <th></th>\n",
       "      <th>user_id</th>\n",
       "      <th>item_id</th>\n",
       "      <th>target</th>\n",
       "      <th>average_bill</th>\n",
       "      <th>department</th>\n",
       "      <th>quantity_by_department</th>\n",
       "      <th>quantity_item_by_week</th>\n",
       "      <th>mean_price_in_department</th>\n",
       "      <th>mean_diff_prices</th>\n",
       "      <th>factor_quantity</th>\n",
       "    </tr>\n",
       "  </thead>\n",
       "  <tbody>\n",
       "    <tr>\n",
       "      <th>0</th>\n",
       "      <td>2070</td>\n",
       "      <td>899624</td>\n",
       "      <td>1.0</td>\n",
       "      <td>7352.295814</td>\n",
       "      <td>PRODUCE</td>\n",
       "      <td>10.0</td>\n",
       "      <td>51.666667</td>\n",
       "      <td>36.299171</td>\n",
       "      <td>33.609171</td>\n",
       "      <td>4.010251</td>\n",
       "    </tr>\n",
       "    <tr>\n",
       "      <th>1</th>\n",
       "      <td>2070</td>\n",
       "      <td>1029743</td>\n",
       "      <td>0.0</td>\n",
       "      <td>7352.295814</td>\n",
       "      <td>GROCERY</td>\n",
       "      <td>139.0</td>\n",
       "      <td>211.833333</td>\n",
       "      <td>18.794590</td>\n",
       "      <td>16.076562</td>\n",
       "      <td>0.000000</td>\n",
       "    </tr>\n",
       "    <tr>\n",
       "      <th>2</th>\n",
       "      <td>2070</td>\n",
       "      <td>5569471</td>\n",
       "      <td>0.0</td>\n",
       "      <td>7352.295814</td>\n",
       "      <td>GROCERY</td>\n",
       "      <td>139.0</td>\n",
       "      <td>14.000000</td>\n",
       "      <td>18.794590</td>\n",
       "      <td>14.442608</td>\n",
       "      <td>0.000000</td>\n",
       "    </tr>\n",
       "    <tr>\n",
       "      <th>3</th>\n",
       "      <td>2070</td>\n",
       "      <td>917033</td>\n",
       "      <td>0.0</td>\n",
       "      <td>7352.295814</td>\n",
       "      <td>GROCERY</td>\n",
       "      <td>139.0</td>\n",
       "      <td>4.200000</td>\n",
       "      <td>18.794590</td>\n",
       "      <td>14.596923</td>\n",
       "      <td>0.000000</td>\n",
       "    </tr>\n",
       "    <tr>\n",
       "      <th>4</th>\n",
       "      <td>2070</td>\n",
       "      <td>896085</td>\n",
       "      <td>0.0</td>\n",
       "      <td>7352.295814</td>\n",
       "      <td>GROCERY</td>\n",
       "      <td>139.0</td>\n",
       "      <td>9.166667</td>\n",
       "      <td>18.794590</td>\n",
       "      <td>16.445006</td>\n",
       "      <td>0.000000</td>\n",
       "    </tr>\n",
       "  </tbody>\n",
       "</table>\n",
       "</div>"
      ],
      "text/plain": [
       "   user_id  item_id  target  average_bill department  quantity_by_department  \\\n",
       "0     2070   899624     1.0   7352.295814    PRODUCE                    10.0   \n",
       "1     2070  1029743     0.0   7352.295814    GROCERY                   139.0   \n",
       "2     2070  5569471     0.0   7352.295814    GROCERY                   139.0   \n",
       "3     2070   917033     0.0   7352.295814    GROCERY                   139.0   \n",
       "4     2070   896085     0.0   7352.295814    GROCERY                   139.0   \n",
       "\n",
       "   quantity_item_by_week  mean_price_in_department  mean_diff_prices  \\\n",
       "0              51.666667                 36.299171         33.609171   \n",
       "1             211.833333                 18.794590         16.076562   \n",
       "2              14.000000                 18.794590         14.442608   \n",
       "3               4.200000                 18.794590         14.596923   \n",
       "4               9.166667                 18.794590         16.445006   \n",
       "\n",
       "   factor_quantity  \n",
       "0         4.010251  \n",
       "1         0.000000  \n",
       "2         0.000000  \n",
       "3         0.000000  \n",
       "4         0.000000  "
      ]
     },
     "execution_count": 21,
     "metadata": {},
     "output_type": "execute_result"
    }
   ],
   "source": [
    "targets_lvl_2 = prepare(targets_lvl_2, data_average_bill, item_features,\n",
    "           data_quantity_by_department, data_quantity_item_by_week,\n",
    "           data_mean_price_in_department, data_mean_diff_prices, data_factor_quantity)\n",
    "targets_lvl_2.head()"
   ]
  },
  {
   "cell_type": "code",
   "execution_count": 22,
   "metadata": {},
   "outputs": [],
   "source": [
    "X_train = targets_lvl_2.drop('target', axis=1)\n",
    "y_train = targets_lvl_2[['target']]"
   ]
  },
  {
   "cell_type": "code",
   "execution_count": 23,
   "metadata": {},
   "outputs": [],
   "source": [
    "cat_feats=['department']\n",
    "X_train[cat_feats] = X_train[cat_feats].astype('category')"
   ]
  },
  {
   "cell_type": "code",
   "execution_count": 24,
   "metadata": {},
   "outputs": [
    {
     "name": "stderr",
     "output_type": "stream",
     "text": [
      "C:\\Users\\SergeyOS\\anaconda3\\lib\\site-packages\\sklearn\\preprocessing\\_label.py:235: DataConversionWarning: A column-vector y was passed when a 1d array was expected. Please change the shape of y to (n_samples, ), for example using ravel().\n",
      "  y = column_or_1d(y, warn=True)\n",
      "C:\\Users\\SergeyOS\\anaconda3\\lib\\site-packages\\sklearn\\preprocessing\\_label.py:268: DataConversionWarning: A column-vector y was passed when a 1d array was expected. Please change the shape of y to (n_samples, ), for example using ravel().\n",
      "  y = column_or_1d(y, warn=True)\n",
      "C:\\Users\\SergeyOS\\anaconda3\\lib\\site-packages\\lightgbm\\basic.py:814: UserWarning: categorical_feature in param dict is overridden.\n",
      "  warnings.warn('categorical_feature in param dict is overridden.')\n"
     ]
    },
    {
     "name": "stdout",
     "output_type": "stream",
     "text": [
      "Wall time: 4.47 s\n"
     ]
    }
   ],
   "source": [
    "%%time\n",
    "\n",
    "lgb = LGBMClassifier(objective='binary', max_depth=7, categorical_column=cat_feats)\n",
    "lgb.fit(X_train, y_train)\n",
    "\n",
    "train_preds = lgb.predict(X_train)"
   ]
  },
  {
   "cell_type": "code",
   "execution_count": 25,
   "metadata": {},
   "outputs": [
    {
     "data": {
      "text/html": [
       "<div>\n",
       "<style scoped>\n",
       "    .dataframe tbody tr th:only-of-type {\n",
       "        vertical-align: middle;\n",
       "    }\n",
       "\n",
       "    .dataframe tbody tr th {\n",
       "        vertical-align: top;\n",
       "    }\n",
       "\n",
       "    .dataframe thead th {\n",
       "        text-align: right;\n",
       "    }\n",
       "</style>\n",
       "<table border=\"1\" class=\"dataframe\">\n",
       "  <thead>\n",
       "    <tr style=\"text-align: right;\">\n",
       "      <th></th>\n",
       "      <th>user_id</th>\n",
       "      <th>item_id</th>\n",
       "      <th>target</th>\n",
       "      <th>average_bill</th>\n",
       "      <th>department</th>\n",
       "      <th>quantity_by_department</th>\n",
       "      <th>quantity_item_by_week</th>\n",
       "      <th>mean_price_in_department</th>\n",
       "      <th>mean_diff_prices</th>\n",
       "      <th>factor_quantity</th>\n",
       "      <th>lgb_scores</th>\n",
       "    </tr>\n",
       "  </thead>\n",
       "  <tbody>\n",
       "    <tr>\n",
       "      <th>0</th>\n",
       "      <td>2070</td>\n",
       "      <td>899624</td>\n",
       "      <td>1.0</td>\n",
       "      <td>7352.295814</td>\n",
       "      <td>PRODUCE</td>\n",
       "      <td>10.0</td>\n",
       "      <td>51.666667</td>\n",
       "      <td>36.299171</td>\n",
       "      <td>33.609171</td>\n",
       "      <td>4.010251</td>\n",
       "      <td>1.0</td>\n",
       "    </tr>\n",
       "    <tr>\n",
       "      <th>1</th>\n",
       "      <td>2070</td>\n",
       "      <td>1029743</td>\n",
       "      <td>0.0</td>\n",
       "      <td>7352.295814</td>\n",
       "      <td>GROCERY</td>\n",
       "      <td>139.0</td>\n",
       "      <td>211.833333</td>\n",
       "      <td>18.794590</td>\n",
       "      <td>16.076562</td>\n",
       "      <td>0.000000</td>\n",
       "      <td>0.0</td>\n",
       "    </tr>\n",
       "    <tr>\n",
       "      <th>2</th>\n",
       "      <td>2070</td>\n",
       "      <td>5569471</td>\n",
       "      <td>0.0</td>\n",
       "      <td>7352.295814</td>\n",
       "      <td>GROCERY</td>\n",
       "      <td>139.0</td>\n",
       "      <td>14.000000</td>\n",
       "      <td>18.794590</td>\n",
       "      <td>14.442608</td>\n",
       "      <td>0.000000</td>\n",
       "      <td>0.0</td>\n",
       "    </tr>\n",
       "    <tr>\n",
       "      <th>3</th>\n",
       "      <td>2070</td>\n",
       "      <td>917033</td>\n",
       "      <td>0.0</td>\n",
       "      <td>7352.295814</td>\n",
       "      <td>GROCERY</td>\n",
       "      <td>139.0</td>\n",
       "      <td>4.200000</td>\n",
       "      <td>18.794590</td>\n",
       "      <td>14.596923</td>\n",
       "      <td>0.000000</td>\n",
       "      <td>0.0</td>\n",
       "    </tr>\n",
       "    <tr>\n",
       "      <th>4</th>\n",
       "      <td>2070</td>\n",
       "      <td>896085</td>\n",
       "      <td>0.0</td>\n",
       "      <td>7352.295814</td>\n",
       "      <td>GROCERY</td>\n",
       "      <td>139.0</td>\n",
       "      <td>9.166667</td>\n",
       "      <td>18.794590</td>\n",
       "      <td>16.445006</td>\n",
       "      <td>0.000000</td>\n",
       "      <td>0.0</td>\n",
       "    </tr>\n",
       "  </tbody>\n",
       "</table>\n",
       "</div>"
      ],
      "text/plain": [
       "   user_id  item_id  target  average_bill department  quantity_by_department  \\\n",
       "0     2070   899624     1.0   7352.295814    PRODUCE                    10.0   \n",
       "1     2070  1029743     0.0   7352.295814    GROCERY                   139.0   \n",
       "2     2070  5569471     0.0   7352.295814    GROCERY                   139.0   \n",
       "3     2070   917033     0.0   7352.295814    GROCERY                   139.0   \n",
       "4     2070   896085     0.0   7352.295814    GROCERY                   139.0   \n",
       "\n",
       "   quantity_item_by_week  mean_price_in_department  mean_diff_prices  \\\n",
       "0              51.666667                 36.299171         33.609171   \n",
       "1             211.833333                 18.794590         16.076562   \n",
       "2              14.000000                 18.794590         14.442608   \n",
       "3               4.200000                 18.794590         14.596923   \n",
       "4               9.166667                 18.794590         16.445006   \n",
       "\n",
       "   factor_quantity  lgb_scores  \n",
       "0         4.010251         1.0  \n",
       "1         0.000000         0.0  \n",
       "2         0.000000         0.0  \n",
       "3         0.000000         0.0  \n",
       "4         0.000000         0.0  "
      ]
     },
     "execution_count": 25,
     "metadata": {},
     "output_type": "execute_result"
    }
   ],
   "source": [
    "targets_lvl_2['lgb_scores'] = train_preds\n",
    "targets_lvl_2.head()"
   ]
  },
  {
   "cell_type": "code",
   "execution_count": 26,
   "metadata": {},
   "outputs": [],
   "source": [
    "lgb_ranked = targets_lvl_2.groupby('user_id')[['item_id', 'lgb_scores']].apply(\n",
    "    lambda x: x.sort_values('lgb_scores', ascending=False)[:5]['item_id'].tolist()).to_dict()"
   ]
  },
  {
   "cell_type": "code",
   "execution_count": 27,
   "metadata": {},
   "outputs": [],
   "source": [
    "bought_list = targets_lvl_2[targets_lvl_2['target']==1]\n",
    "bought_list = bought_list.groupby('user_id')[['item_id', 'target']].apply(\n",
    "    lambda x: x.sort_values('target', ascending=False)['item_id'].tolist()).to_dict()"
   ]
  },
  {
   "cell_type": "code",
   "execution_count": 28,
   "metadata": {},
   "outputs": [
    {
     "name": "stdout",
     "output_type": "stream",
     "text": [
      "0.8574744661095636\n"
     ]
    }
   ],
   "source": [
    "scores = []\n",
    "for user_id, recommended_item_ids in lgb_ranked.items():\n",
    "    if user_id in bought_list:\n",
    "        ap = precision_at_k(recommended_item_ids, bought_list[user_id])\n",
    "        scores.append(ap)\n",
    "    else:\n",
    "        scores.append(0)\n",
    "model_score = np.mean(scores)\n",
    "print(model_score)"
   ]
  },
  {
   "cell_type": "code",
   "execution_count": 29,
   "metadata": {},
   "outputs": [
    {
     "data": {
      "text/html": [
       "<div>\n",
       "<style scoped>\n",
       "    .dataframe tbody tr th:only-of-type {\n",
       "        vertical-align: middle;\n",
       "    }\n",
       "\n",
       "    .dataframe tbody tr th {\n",
       "        vertical-align: top;\n",
       "    }\n",
       "\n",
       "    .dataframe thead th {\n",
       "        text-align: right;\n",
       "    }\n",
       "</style>\n",
       "<table border=\"1\" class=\"dataframe\">\n",
       "  <thead>\n",
       "    <tr style=\"text-align: right;\">\n",
       "      <th></th>\n",
       "      <th>user_id</th>\n",
       "      <th>item_id</th>\n",
       "      <th>target</th>\n",
       "      <th>average_bill</th>\n",
       "      <th>department</th>\n",
       "      <th>quantity_by_department</th>\n",
       "      <th>quantity_item_by_week</th>\n",
       "      <th>mean_price_in_department</th>\n",
       "      <th>mean_diff_prices</th>\n",
       "      <th>factor_quantity</th>\n",
       "    </tr>\n",
       "  </thead>\n",
       "  <tbody>\n",
       "    <tr>\n",
       "      <th>0</th>\n",
       "      <td>338</td>\n",
       "      <td>835300</td>\n",
       "      <td>0.0</td>\n",
       "      <td>22.3475</td>\n",
       "      <td>MEAT</td>\n",
       "      <td>0.0</td>\n",
       "      <td>3.200000</td>\n",
       "      <td>54.282992</td>\n",
       "      <td>49.917992</td>\n",
       "      <td>0.000000</td>\n",
       "    </tr>\n",
       "    <tr>\n",
       "      <th>1</th>\n",
       "      <td>338</td>\n",
       "      <td>1084036</td>\n",
       "      <td>0.0</td>\n",
       "      <td>22.3475</td>\n",
       "      <td>MEAT</td>\n",
       "      <td>0.0</td>\n",
       "      <td>2.600000</td>\n",
       "      <td>54.282992</td>\n",
       "      <td>52.384104</td>\n",
       "      <td>0.000000</td>\n",
       "    </tr>\n",
       "    <tr>\n",
       "      <th>2</th>\n",
       "      <td>338</td>\n",
       "      <td>896613</td>\n",
       "      <td>0.0</td>\n",
       "      <td>22.3475</td>\n",
       "      <td>MEAT</td>\n",
       "      <td>0.0</td>\n",
       "      <td>8.333333</td>\n",
       "      <td>54.282992</td>\n",
       "      <td>49.232492</td>\n",
       "      <td>0.000000</td>\n",
       "    </tr>\n",
       "    <tr>\n",
       "      <th>3</th>\n",
       "      <td>338</td>\n",
       "      <td>1068292</td>\n",
       "      <td>0.0</td>\n",
       "      <td>22.3475</td>\n",
       "      <td>MEAT</td>\n",
       "      <td>0.0</td>\n",
       "      <td>5.166667</td>\n",
       "      <td>54.282992</td>\n",
       "      <td>50.657992</td>\n",
       "      <td>0.000000</td>\n",
       "    </tr>\n",
       "    <tr>\n",
       "      <th>4</th>\n",
       "      <td>338</td>\n",
       "      <td>1026118</td>\n",
       "      <td>1.0</td>\n",
       "      <td>22.3475</td>\n",
       "      <td>PRODUCE</td>\n",
       "      <td>12.0</td>\n",
       "      <td>19.333333</td>\n",
       "      <td>36.299171</td>\n",
       "      <td>34.769171</td>\n",
       "      <td>8.822552</td>\n",
       "    </tr>\n",
       "  </tbody>\n",
       "</table>\n",
       "</div>"
      ],
      "text/plain": [
       "   user_id  item_id  target  average_bill department  quantity_by_department  \\\n",
       "0      338   835300     0.0       22.3475       MEAT                     0.0   \n",
       "1      338  1084036     0.0       22.3475       MEAT                     0.0   \n",
       "2      338   896613     0.0       22.3475       MEAT                     0.0   \n",
       "3      338  1068292     0.0       22.3475       MEAT                     0.0   \n",
       "4      338  1026118     1.0       22.3475    PRODUCE                    12.0   \n",
       "\n",
       "   quantity_item_by_week  mean_price_in_department  mean_diff_prices  \\\n",
       "0               3.200000                 54.282992         49.917992   \n",
       "1               2.600000                 54.282992         52.384104   \n",
       "2               8.333333                 54.282992         49.232492   \n",
       "3               5.166667                 54.282992         50.657992   \n",
       "4              19.333333                 36.299171         34.769171   \n",
       "\n",
       "   factor_quantity  \n",
       "0         0.000000  \n",
       "1         0.000000  \n",
       "2         0.000000  \n",
       "3         0.000000  \n",
       "4         8.822552  "
      ]
     },
     "execution_count": 29,
     "metadata": {},
     "output_type": "execute_result"
    }
   ],
   "source": [
    "targets_val_lvl_2 = get_data(data_val_lvl_2)\n",
    "targets_val_lvl_2 = prepare(targets_val_lvl_2, data_average_bill, item_features,\n",
    "           data_quantity_by_department, data_quantity_item_by_week,\n",
    "           data_mean_price_in_department, data_mean_diff_prices, data_factor_quantity)\n",
    "targets_val_lvl_2.head()"
   ]
  },
  {
   "cell_type": "code",
   "execution_count": 30,
   "metadata": {},
   "outputs": [],
   "source": [
    "X_val = targets_val_lvl_2.drop('target', axis=1)\n",
    "y_val = targets_val_lvl_2[['target']]\n",
    "X_val[cat_feats] = X_val[cat_feats].astype('category')"
   ]
  },
  {
   "cell_type": "code",
   "execution_count": 31,
   "metadata": {},
   "outputs": [
    {
     "data": {
      "text/html": [
       "<div>\n",
       "<style scoped>\n",
       "    .dataframe tbody tr th:only-of-type {\n",
       "        vertical-align: middle;\n",
       "    }\n",
       "\n",
       "    .dataframe tbody tr th {\n",
       "        vertical-align: top;\n",
       "    }\n",
       "\n",
       "    .dataframe thead th {\n",
       "        text-align: right;\n",
       "    }\n",
       "</style>\n",
       "<table border=\"1\" class=\"dataframe\">\n",
       "  <thead>\n",
       "    <tr style=\"text-align: right;\">\n",
       "      <th></th>\n",
       "      <th>user_id</th>\n",
       "      <th>item_id</th>\n",
       "      <th>target</th>\n",
       "      <th>average_bill</th>\n",
       "      <th>department</th>\n",
       "      <th>quantity_by_department</th>\n",
       "      <th>quantity_item_by_week</th>\n",
       "      <th>mean_price_in_department</th>\n",
       "      <th>mean_diff_prices</th>\n",
       "      <th>factor_quantity</th>\n",
       "      <th>lgb_scores</th>\n",
       "    </tr>\n",
       "  </thead>\n",
       "  <tbody>\n",
       "    <tr>\n",
       "      <th>0</th>\n",
       "      <td>338</td>\n",
       "      <td>835300</td>\n",
       "      <td>0.0</td>\n",
       "      <td>22.3475</td>\n",
       "      <td>MEAT</td>\n",
       "      <td>0.0</td>\n",
       "      <td>3.200000</td>\n",
       "      <td>54.282992</td>\n",
       "      <td>49.917992</td>\n",
       "      <td>0.000000</td>\n",
       "      <td>0.0</td>\n",
       "    </tr>\n",
       "    <tr>\n",
       "      <th>1</th>\n",
       "      <td>338</td>\n",
       "      <td>1084036</td>\n",
       "      <td>0.0</td>\n",
       "      <td>22.3475</td>\n",
       "      <td>MEAT</td>\n",
       "      <td>0.0</td>\n",
       "      <td>2.600000</td>\n",
       "      <td>54.282992</td>\n",
       "      <td>52.384104</td>\n",
       "      <td>0.000000</td>\n",
       "      <td>0.0</td>\n",
       "    </tr>\n",
       "    <tr>\n",
       "      <th>2</th>\n",
       "      <td>338</td>\n",
       "      <td>896613</td>\n",
       "      <td>0.0</td>\n",
       "      <td>22.3475</td>\n",
       "      <td>MEAT</td>\n",
       "      <td>0.0</td>\n",
       "      <td>8.333333</td>\n",
       "      <td>54.282992</td>\n",
       "      <td>49.232492</td>\n",
       "      <td>0.000000</td>\n",
       "      <td>0.0</td>\n",
       "    </tr>\n",
       "    <tr>\n",
       "      <th>3</th>\n",
       "      <td>338</td>\n",
       "      <td>1068292</td>\n",
       "      <td>0.0</td>\n",
       "      <td>22.3475</td>\n",
       "      <td>MEAT</td>\n",
       "      <td>0.0</td>\n",
       "      <td>5.166667</td>\n",
       "      <td>54.282992</td>\n",
       "      <td>50.657992</td>\n",
       "      <td>0.000000</td>\n",
       "      <td>0.0</td>\n",
       "    </tr>\n",
       "    <tr>\n",
       "      <th>4</th>\n",
       "      <td>338</td>\n",
       "      <td>1026118</td>\n",
       "      <td>1.0</td>\n",
       "      <td>22.3475</td>\n",
       "      <td>PRODUCE</td>\n",
       "      <td>12.0</td>\n",
       "      <td>19.333333</td>\n",
       "      <td>36.299171</td>\n",
       "      <td>34.769171</td>\n",
       "      <td>8.822552</td>\n",
       "      <td>1.0</td>\n",
       "    </tr>\n",
       "  </tbody>\n",
       "</table>\n",
       "</div>"
      ],
      "text/plain": [
       "   user_id  item_id  target  average_bill department  quantity_by_department  \\\n",
       "0      338   835300     0.0       22.3475       MEAT                     0.0   \n",
       "1      338  1084036     0.0       22.3475       MEAT                     0.0   \n",
       "2      338   896613     0.0       22.3475       MEAT                     0.0   \n",
       "3      338  1068292     0.0       22.3475       MEAT                     0.0   \n",
       "4      338  1026118     1.0       22.3475    PRODUCE                    12.0   \n",
       "\n",
       "   quantity_item_by_week  mean_price_in_department  mean_diff_prices  \\\n",
       "0               3.200000                 54.282992         49.917992   \n",
       "1               2.600000                 54.282992         52.384104   \n",
       "2               8.333333                 54.282992         49.232492   \n",
       "3               5.166667                 54.282992         50.657992   \n",
       "4              19.333333                 36.299171         34.769171   \n",
       "\n",
       "   factor_quantity  lgb_scores  \n",
       "0         0.000000         0.0  \n",
       "1         0.000000         0.0  \n",
       "2         0.000000         0.0  \n",
       "3         0.000000         0.0  \n",
       "4         8.822552         1.0  "
      ]
     },
     "execution_count": 31,
     "metadata": {},
     "output_type": "execute_result"
    }
   ],
   "source": [
    "val_preds = lgb.predict(X_val)\n",
    "targets_val_lvl_2['lgb_scores'] = val_preds\n",
    "targets_val_lvl_2.head()"
   ]
  },
  {
   "cell_type": "code",
   "execution_count": 32,
   "metadata": {},
   "outputs": [],
   "source": [
    "lgb_ranked = targets_val_lvl_2.groupby('user_id')[['item_id', 'lgb_scores']].apply(\n",
    "    lambda x: x.sort_values('lgb_scores', ascending=False)[:5]['item_id'].tolist()).to_dict()\n",
    "bought_list = targets_val_lvl_2[targets_val_lvl_2['target']==1]\n",
    "bought_list = bought_list.groupby('user_id')[['item_id', 'target']].apply(\n",
    "    lambda x: x.sort_values('target', ascending=False)['item_id'].tolist()).to_dict()"
   ]
  },
  {
   "cell_type": "code",
   "execution_count": 33,
   "metadata": {},
   "outputs": [
    {
     "name": "stdout",
     "output_type": "stream",
     "text": [
      "precision_at_k для модели 1 уровня=0.1426052889324192 и для модели 2 уровня=0.30333006856023503\n"
     ]
    }
   ],
   "source": [
    "scores_lvl2 = []\n",
    "scores_lvl1 = []\n",
    "for user_id, recommended_item_ids in lgb_ranked.items():\n",
    "    if user_id in bought_list:\n",
    "        ap = precision_at_k(recommended_item_ids, bought_list[user_id])\n",
    "        scores_lvl2.append(ap)\n",
    "        ap = precision_at_k(recommender.get_als_recommendations(user_id, N=5), bought_list[user_id])\n",
    "        scores_lvl1.append(ap)\n",
    "    else:\n",
    "        scores_lvl2.append(0)\n",
    "        scores_lvl1.append(0)\n",
    "model_score_lvl1 = np.mean(scores_lvl1)\n",
    "model_score_lvl2 = np.mean(scores_lvl2)\n",
    "print(f'precision_at_k для модели 1 уровня={model_score_lvl1} и для модели 2 уровня={model_score_lvl2}')"
   ]
  },
  {
   "cell_type": "code",
   "execution_count": null,
   "metadata": {},
   "outputs": [],
   "source": []
  }
 ],
 "metadata": {
  "kernelspec": {
   "display_name": "Python 3",
   "language": "python",
   "name": "python3"
  },
  "language_info": {
   "codemirror_mode": {
    "name": "ipython",
    "version": 3
   },
   "file_extension": ".py",
   "mimetype": "text/x-python",
   "name": "python",
   "nbconvert_exporter": "python",
   "pygments_lexer": "ipython3",
   "version": "3.7.6"
  }
 },
 "nbformat": 4,
 "nbformat_minor": 2
}
